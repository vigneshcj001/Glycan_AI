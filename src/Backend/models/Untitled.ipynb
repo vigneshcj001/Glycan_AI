{
 "cells": [
  {
   "cell_type": "code",
   "execution_count": 1,
   "id": "0e502bca-c019-485b-b4a8-8b953a8aa3be",
   "metadata": {},
   "outputs": [],
   "source": [
    "import pandas as pd\n",
    "df = pd.read_csv('monosaccharides_counts.csv')"
   ]
  },
  {
   "cell_type": "code",
   "execution_count": 2,
   "id": "7dee6eb8-eb23-4b16-9c00-042e1f6cc676",
   "metadata": {},
   "outputs": [
    {
     "data": {
      "text/plain": [
       "Index(['Monosaccharide', 'Count'], dtype='object')"
      ]
     },
     "execution_count": 2,
     "metadata": {},
     "output_type": "execute_result"
    }
   ],
   "source": [
    "df.columns"
   ]
  }
 ],
 "metadata": {
  "kernelspec": {
   "display_name": "Python 3 (ipykernel)",
   "language": "python",
   "name": "python3"
  },
  "language_info": {
   "codemirror_mode": {
    "name": "ipython",
    "version": 3
   },
   "file_extension": ".py",
   "mimetype": "text/x-python",
   "name": "python",
   "nbconvert_exporter": "python",
   "pygments_lexer": "ipython3",
   "version": "3.12.7"
  }
 },
 "nbformat": 4,
 "nbformat_minor": 5
}
